{
 "cells": [
  {
   "cell_type": "markdown",
   "metadata": {},
   "source": [
    "# Data Science Bowl 2019\n",
    "\n",
    "# Introduction\n",
    "\n",
    "PBS KIDS, a trusted name in early childhood education for decades, aims to gain insights into how media can help children learn important skills for success in school and life. In this challenge, you’ll use anonymous gameplay data, including knowledge of videos watched and games played, from the PBS KIDS Measure Up! app, a game-based learning tool developed as a part of the CPB-PBS Ready To Learn Initiative with funding from the U.S. Department of Education. Competitors will be challenged to predict scores on in-game assessments and create an algorithm that will lead to better-designed games and improved learning outcomes. Your solutions will aid in discovering important relationships between engagement with high-quality educational media and learning processes.\n",
    "\n",
    "**Where does the data for the competition come from?**\n",
    "The data used in this competition is anonymous, tabular data of interactions with the PBS KIDS Measure Up! app. Select data, such as a user’s in-app assessment score or their path through the game, is collected by the PBS KIDS Measure Up! app, a game-based learning tool.\n",
    "\n",
    "**What is the PBS KIDS Measure Up! app?**\n",
    "In the PBS KIDS Measure Up! app, children ages 3 to 5 learn early STEM concepts focused on length, width, capacity, and weight while going on an adventure through Treetop City, Magma Peak, and Crystal Caves. Joined by their favorite PBS KIDS characters, children can also collect rewards and unlock digital toys as they play. \n",
    "\n",
    "Besides the info provided above by Kaggle, I found the following additional info on the website of the app:\n",
    "\n",
    "Specific features of Measure Up! include:\n",
    "\n",
    "* 19 unique measuring games.\n",
    "* 10 measurement-focused video clips.\n",
    "* Sticker books featuring favorite PBS KIDS characters.\n",
    "* Rewards for completion of tasks.\n",
    "* Embedded challenges and reports to help parents and caregivers monitor kids’ progress.\n",
    "* Ability to track your child's progress using the PBS KIDS Super Vision companion app.\n",
    "\n",
    "**Evaluation**\n",
    "Submissions are scored based on the quadratic weighted kappa, which measures the agreement between two outcomes. This metric typically varies from 0 (random agreement) to 1 (complete agreement). In the event that there is less agreement than expected by chance, the metric may go below 0.\n",
    "\n",
    "The outcomes in this competition are grouped into 4 groups (labeled accuracy_group in the data):\n",
    "\n",
    "3: the assessment was solved on the first attempt\n",
    "\n",
    "2: the assessment was solved on the second attempt\n",
    "\n",
    "1: the assessment was solved after 3 or more attempts\n",
    "\n",
    "0: the assessment was never solved\n",
    "\n",
    "\n",
    "\n",
    "For each installation_id represented in the test set, you must predict the accuracy_group of the last assessment for that installation_id.\n",
    "\n",
    "Note that the training set contains many installation_ids which never took assessments, whereas every installation_id in the test set made an attempt on at least one assessment.\n",
    "\n",
    "The file train_labels.csv has been provided to show how these groups would be computed on the assessments in the training set. Assessment attempts are captured in event_code 4100 for all assessments except for Bird Measurer, which uses event_code 4110. If the attempt was correct, it contains \"correct\":true."
   ]
  },
  {
   "cell_type": "markdown",
   "metadata": {},
   "source": [
    "# Table of contents\n",
    "\n",
    "* [1. Understanding the train data](#1.-Understanding-the-train-data)\n",
    "* [2. Understanding the test set](#2.-Understanding-the-test-set)\n",
    "* [3. Understanding and visualizing the train labels](#3.-Understanding-and-visualizing-the train-labels)\n",
    "* [4. Feature engineering and visualizations](#4.-Feature-engineering-and-visualizations)"
   ]
  },
  {
   "cell_type": "code",
   "execution_count": 7,
   "metadata": {
    "_cell_guid": "b1076dfc-b9ad-4769-8c92-a6c4dae69d19",
    "_uuid": "8f2839f25d086af736a60e9eeb907d3b93b6e0e5"
   },
   "outputs": [],
   "source": [
    "import pandas as pd\n",
    "pd.set_option('display.max_columns', None)\n",
    "import numpy as np\n",
    "import seaborn as sns\n",
    "import matplotlib.style as style\n",
    "style.use('fivethirtyeight')\n",
    "import matplotlib.pylab as plt\n",
    "import calendar\n",
    "import warnings\n",
    "warnings.filterwarnings(\"ignore\")"
   ]
  },
  {
   "cell_type": "code",
   "execution_count": 8,
   "metadata": {},
   "outputs": [
    {
     "name": "stdout",
     "output_type": "stream",
     "text": [
      "Wall time: 1min 13s\n"
     ]
    }
   ],
   "source": [
    "%%time\n",
    "train = pd.read_csv('../input/data-science-bowl-2019/train.csv')\n",
    "train_labels = pd.read_csv('../input/data-science-bowl-2019/train_labels.csv')\n",
    "test = pd.read_csv('../input/data-science-bowl-2019/test.csv')\n",
    "specs = pd.read_csv('../input/data-science-bowl-2019/specs.csv')\n",
    "sample_sub = pd.read_csv('../input/data-science-bowl-2019/sample_submission.csv')"
   ]
  },
  {
   "cell_type": "markdown",
   "metadata": {},
   "source": [
    "# 1. Understanding the train data"
   ]
  },
  {
   "cell_type": "code",
   "execution_count": 9,
   "metadata": {},
   "outputs": [
    {
     "data": {
      "text/html": [
       "<div>\n",
       "<style scoped>\n",
       "    .dataframe tbody tr th:only-of-type {\n",
       "        vertical-align: middle;\n",
       "    }\n",
       "\n",
       "    .dataframe tbody tr th {\n",
       "        vertical-align: top;\n",
       "    }\n",
       "\n",
       "    .dataframe thead th {\n",
       "        text-align: right;\n",
       "    }\n",
       "</style>\n",
       "<table border=\"1\" class=\"dataframe\">\n",
       "  <thead>\n",
       "    <tr style=\"text-align: right;\">\n",
       "      <th></th>\n",
       "      <th>event_id</th>\n",
       "      <th>game_session</th>\n",
       "      <th>timestamp</th>\n",
       "      <th>event_data</th>\n",
       "      <th>installation_id</th>\n",
       "      <th>event_count</th>\n",
       "      <th>event_code</th>\n",
       "      <th>game_time</th>\n",
       "      <th>title</th>\n",
       "      <th>type</th>\n",
       "      <th>world</th>\n",
       "    </tr>\n",
       "  </thead>\n",
       "  <tbody>\n",
       "    <tr>\n",
       "      <td>0</td>\n",
       "      <td>27253bdc</td>\n",
       "      <td>45bb1e1b6b50c07b</td>\n",
       "      <td>2019-09-06T17:53:46.937Z</td>\n",
       "      <td>{\"event_code\": 2000, \"event_count\": 1}</td>\n",
       "      <td>0001e90f</td>\n",
       "      <td>1</td>\n",
       "      <td>2000</td>\n",
       "      <td>0</td>\n",
       "      <td>Welcome to Lost Lagoon!</td>\n",
       "      <td>Clip</td>\n",
       "      <td>NONE</td>\n",
       "    </tr>\n",
       "    <tr>\n",
       "      <td>1</td>\n",
       "      <td>27253bdc</td>\n",
       "      <td>17eeb7f223665f53</td>\n",
       "      <td>2019-09-06T17:54:17.519Z</td>\n",
       "      <td>{\"event_code\": 2000, \"event_count\": 1}</td>\n",
       "      <td>0001e90f</td>\n",
       "      <td>1</td>\n",
       "      <td>2000</td>\n",
       "      <td>0</td>\n",
       "      <td>Magma Peak - Level 1</td>\n",
       "      <td>Clip</td>\n",
       "      <td>MAGMAPEAK</td>\n",
       "    </tr>\n",
       "    <tr>\n",
       "      <td>2</td>\n",
       "      <td>77261ab5</td>\n",
       "      <td>0848ef14a8dc6892</td>\n",
       "      <td>2019-09-06T17:54:56.302Z</td>\n",
       "      <td>{\"version\":\"1.0\",\"event_count\":1,\"game_time\":0...</td>\n",
       "      <td>0001e90f</td>\n",
       "      <td>1</td>\n",
       "      <td>2000</td>\n",
       "      <td>0</td>\n",
       "      <td>Sandcastle Builder (Activity)</td>\n",
       "      <td>Activity</td>\n",
       "      <td>MAGMAPEAK</td>\n",
       "    </tr>\n",
       "    <tr>\n",
       "      <td>3</td>\n",
       "      <td>b2dba42b</td>\n",
       "      <td>0848ef14a8dc6892</td>\n",
       "      <td>2019-09-06T17:54:56.387Z</td>\n",
       "      <td>{\"description\":\"Let's build a sandcastle! Firs...</td>\n",
       "      <td>0001e90f</td>\n",
       "      <td>2</td>\n",
       "      <td>3010</td>\n",
       "      <td>53</td>\n",
       "      <td>Sandcastle Builder (Activity)</td>\n",
       "      <td>Activity</td>\n",
       "      <td>MAGMAPEAK</td>\n",
       "    </tr>\n",
       "    <tr>\n",
       "      <td>4</td>\n",
       "      <td>1bb5fbdb</td>\n",
       "      <td>0848ef14a8dc6892</td>\n",
       "      <td>2019-09-06T17:55:03.253Z</td>\n",
       "      <td>{\"description\":\"Let's build a sandcastle! Firs...</td>\n",
       "      <td>0001e90f</td>\n",
       "      <td>3</td>\n",
       "      <td>3110</td>\n",
       "      <td>6972</td>\n",
       "      <td>Sandcastle Builder (Activity)</td>\n",
       "      <td>Activity</td>\n",
       "      <td>MAGMAPEAK</td>\n",
       "    </tr>\n",
       "  </tbody>\n",
       "</table>\n",
       "</div>"
      ],
      "text/plain": [
       "   event_id      game_session                 timestamp  \\\n",
       "0  27253bdc  45bb1e1b6b50c07b  2019-09-06T17:53:46.937Z   \n",
       "1  27253bdc  17eeb7f223665f53  2019-09-06T17:54:17.519Z   \n",
       "2  77261ab5  0848ef14a8dc6892  2019-09-06T17:54:56.302Z   \n",
       "3  b2dba42b  0848ef14a8dc6892  2019-09-06T17:54:56.387Z   \n",
       "4  1bb5fbdb  0848ef14a8dc6892  2019-09-06T17:55:03.253Z   \n",
       "\n",
       "                                          event_data installation_id  \\\n",
       "0             {\"event_code\": 2000, \"event_count\": 1}        0001e90f   \n",
       "1             {\"event_code\": 2000, \"event_count\": 1}        0001e90f   \n",
       "2  {\"version\":\"1.0\",\"event_count\":1,\"game_time\":0...        0001e90f   \n",
       "3  {\"description\":\"Let's build a sandcastle! Firs...        0001e90f   \n",
       "4  {\"description\":\"Let's build a sandcastle! Firs...        0001e90f   \n",
       "\n",
       "   event_count  event_code  game_time                          title  \\\n",
       "0            1        2000          0        Welcome to Lost Lagoon!   \n",
       "1            1        2000          0           Magma Peak - Level 1   \n",
       "2            1        2000          0  Sandcastle Builder (Activity)   \n",
       "3            2        3010         53  Sandcastle Builder (Activity)   \n",
       "4            3        3110       6972  Sandcastle Builder (Activity)   \n",
       "\n",
       "       type      world  \n",
       "0      Clip       NONE  \n",
       "1      Clip  MAGMAPEAK  \n",
       "2  Activity  MAGMAPEAK  \n",
       "3  Activity  MAGMAPEAK  \n",
       "4  Activity  MAGMAPEAK  "
      ]
     },
     "execution_count": 9,
     "metadata": {},
     "output_type": "execute_result"
    }
   ],
   "source": [
    "train.head()"
   ]
  },
  {
   "cell_type": "code",
   "execution_count": 10,
   "metadata": {},
   "outputs": [
    {
     "data": {
      "text/plain": [
       "(11341042, 11)"
      ]
     },
     "execution_count": 10,
     "metadata": {},
     "output_type": "execute_result"
    }
   ],
   "source": [
    "train.shape"
   ]
  },
  {
   "cell_type": "markdown",
   "metadata": {},
   "source": [
    "So we have 11 million rows and just 11 columns. However, Kaggle provided the following note: Note that the training set contains many installation_ids which never took assessments, whereas every installation_id in the test set made an attempt on at least one assessment.\n",
    "\n",
    "As there is no point in keeping training data that cannot be used for training anyway, I am getting rid of the installation_ids that never took an assessment\n",
    "    "
   ]
  },
  {
   "cell_type": "code",
   "execution_count": 11,
   "metadata": {},
   "outputs": [],
   "source": [
    "keep_id = train[train.type == \"Assessment\"][['installation_id']].drop_duplicates()\n",
    "train = pd.merge(train, keep_id, on=\"installation_id\", how=\"inner\")"
   ]
  },
  {
   "cell_type": "markdown",
   "metadata": {},
   "source": [
    "As you can see, we have now lost about 3 million rows."
   ]
  },
  {
   "cell_type": "code",
   "execution_count": 12,
   "metadata": {},
   "outputs": [
    {
     "data": {
      "text/plain": [
       "(8294138, 11)"
      ]
     },
     "execution_count": 12,
     "metadata": {},
     "output_type": "execute_result"
    }
   ],
   "source": [
    "train.shape"
   ]
  },
  {
   "cell_type": "markdown",
   "metadata": {},
   "source": [
    "The number of unique installations in our \"smaller\" train set is now 4242."
   ]
  },
  {
   "cell_type": "code",
   "execution_count": 13,
   "metadata": {},
   "outputs": [
    {
     "data": {
      "text/plain": [
       "(4242, 1)"
      ]
     },
     "execution_count": 13,
     "metadata": {},
     "output_type": "execute_result"
    }
   ],
   "source": [
    "keep_id.shape"
   ]
  },
  {
   "cell_type": "markdown",
   "metadata": {},
   "source": [
    "I will first visualize some of the existing columns."
   ]
  },
  {
   "cell_type": "code",
   "execution_count": 14,
   "metadata": {
    "_kg_hide-input": true
   },
   "outputs": [
    {
     "data": {
      "image/png": "[encoded data removed]",
      "text/plain": [
       "<Figure size 864x720 with 2 Axes>"
      ]
     },
     "metadata": {},
     "output_type": "display_data"
    }
   ],
   "source": [
    "plt.rcParams.update({'font.size': 16})\n",
    "\n",
    "fig = plt.figure(figsize=(12,10))\n",
    "ax1 = fig.add_subplot(211)\n",
    "ax1 = sns.countplot(y=\"type\", data=train, color=\"blue\", order = train.type.value_counts().index)\n",
    "plt.title(\"number of events by type\")\n",
    "\n",
    "ax2 = fig.add_subplot(212)\n",
    "ax2 = sns.countplot(y=\"world\", data=train, color=\"blue\", order = train.world.value_counts().index)\n",
    "plt.title(\"number of events by world\")\n",
    "\n",
    "plt.tight_layout(pad=0)\n",
    "plt.show()"
   ]
  },
  {
   "cell_type": "markdown",
   "metadata": {},
   "source": [
    "I will now add some new columns based on the timestamp, and visualize these."
   ]
  },
  {
   "cell_type": "code",
   "execution_count": 15,
   "metadata": {
    "_kg_hide-input": true
   },
   "outputs": [],
   "source": [
    "def get_time(df):\n",
    "    df['timestamp'] = pd.to_datetime(df['timestamp'])\n",
    "    df['date'] = df['timestamp'].dt.date\n",
    "    df['month'] = df['timestamp'].dt.month\n",
    "    df['hour'] = df['timestamp'].dt.hour\n",
    "    df['dayofweek'] = df['timestamp'].dt.dayofweek\n",
    "    return df\n",
    "    \n",
    "train = get_time(train)\n",
    "\n",
    "#list(set(train['title'].unique()).union(set(test['title'].unique())))"
   ]
  },
  {
   "cell_type": "markdown",
   "metadata": {},
   "source": [
    "Below your see the counts by date. By the way, I have wasted a lot of time on trying to fix the weird ticks on the x-axis, but this seems a bug: https://github.com/matplotlib/matplotlib/issues/13183"
   ]
  },
  {
   "cell_type": "code",
   "execution_count": 16,
   "metadata": {
    "_kg_hide-input": true
   },
   "outputs": [
    {
     "data": {
      "image/png": "[encoded data removed]",
      "text/plain": [
       "<Figure size 864x720 with 1 Axes>"
      ]
     },
     "metadata": {},
     "output_type": "display_data"
    }
   ],
   "source": [
    "fig = plt.figure(figsize=(12,10))\n",
    "se = train.groupby('date')['date'].count()\n",
    "se.plot()\n",
    "plt.title(\"Event counts by date\")\n",
    "plt.xticks(rotation=90)\n",
    "plt.show()"
   ]
  },
  {
   "cell_type": "markdown",
   "metadata": {},
   "source": [
    "When looking at the day of the week, we see no major difference. Of course, we are talking about kids who don't have to go to work ;-)"
   ]
  },
  {
   "cell_type": "code",
   "execution_count": 17,
   "metadata": {
    "_kg_hide-input": true
   },
   "outputs": [
    {
     "data": {
      "image/png": "[encoded data removed]",
      "text/plain": [
       "<Figure size 864x720 with 1 Axes>"
      ]
     },
     "metadata": {},
     "output_type": "display_data"
    }
   ],
   "source": [
    "fig = plt.figure(figsize=(12,10))\n",
    "se = train.groupby('dayofweek')['dayofweek'].count()\n",
    "se.index = list(calendar.day_abbr)\n",
    "se.plot.bar()\n",
    "plt.title(\"Event counts by day of week\")\n",
    "plt.xticks(rotation=0)\n",
    "plt.show()"
   ]
  },
  {
   "cell_type": "markdown",
   "metadata": {},
   "source": [
    "When looking at the numbers by hour of the day, I find the distribution a little bit strange. Kids seem up late at night and don't do much early in the morning. Has this something to do with time zones perhaps?"
   ]
  },
  {
   "cell_type": "code",
   "execution_count": 18,
   "metadata": {
    "_kg_hide-input": true
   },
   "outputs": [
    {
     "data": {
      "image/png": "[encoded data removed]",
      "text/plain": [
       "<Figure size 864x720 with 1 Axes>"
      ]
     },
     "metadata": {},
     "output_type": "display_data"
    }
   ],
   "source": [
    "fig = plt.figure(figsize=(12,10))\n",
    "se = train.groupby('hour')['hour'].count()\n",
    "#se.index = list(calendar.day_abbr)\n",
    "se.plot.bar()\n",
    "plt.title(\"Event counts by hour of day\")\n",
    "plt.xticks(rotation=0)\n",
    "plt.show()"
   ]
  },
  {
   "cell_type": "markdown",
   "metadata": {},
   "source": [
    "# 2. Understanding the test set\n",
    "\n",
    "From Kaggle: For each installation_id represented in the test set, you must predict the accuracy_group of the last assessment for that installation_id."
   ]
  },
  {
   "cell_type": "code",
   "execution_count": 19,
   "metadata": {},
   "outputs": [
    {
     "data": {
      "text/html": [
       "<div>\n",
       "<style scoped>\n",
       "    .dataframe tbody tr th:only-of-type {\n",
       "        vertical-align: middle;\n",
       "    }\n",
       "\n",
       "    .dataframe tbody tr th {\n",
       "        vertical-align: top;\n",
       "    }\n",
       "\n",
       "    .dataframe thead th {\n",
       "        text-align: right;\n",
       "    }\n",
       "</style>\n",
       "<table border=\"1\" class=\"dataframe\">\n",
       "  <thead>\n",
       "    <tr style=\"text-align: right;\">\n",
       "      <th></th>\n",
       "      <th>event_id</th>\n",
       "      <th>game_session</th>\n",
       "      <th>timestamp</th>\n",
       "      <th>event_data</th>\n",
       "      <th>installation_id</th>\n",
       "      <th>event_count</th>\n",
       "      <th>event_code</th>\n",
       "      <th>game_time</th>\n",
       "      <th>title</th>\n",
       "      <th>type</th>\n",
       "      <th>world</th>\n",
       "    </tr>\n",
       "  </thead>\n",
       "  <tbody>\n",
       "    <tr>\n",
       "      <td>0</td>\n",
       "      <td>27253bdc</td>\n",
       "      <td>0ea9ecc81a565215</td>\n",
       "      <td>2019-09-10T16:50:24.910Z</td>\n",
       "      <td>{\"event_code\": 2000, \"event_count\": 1}</td>\n",
       "      <td>00abaee7</td>\n",
       "      <td>1</td>\n",
       "      <td>2000</td>\n",
       "      <td>0</td>\n",
       "      <td>Welcome to Lost Lagoon!</td>\n",
       "      <td>Clip</td>\n",
       "      <td>NONE</td>\n",
       "    </tr>\n",
       "    <tr>\n",
       "      <td>1</td>\n",
       "      <td>27253bdc</td>\n",
       "      <td>c1ea43d8b8261d27</td>\n",
       "      <td>2019-09-10T16:50:55.503Z</td>\n",
       "      <td>{\"event_code\": 2000, \"event_count\": 1}</td>\n",
       "      <td>00abaee7</td>\n",
       "      <td>1</td>\n",
       "      <td>2000</td>\n",
       "      <td>0</td>\n",
       "      <td>Magma Peak - Level 1</td>\n",
       "      <td>Clip</td>\n",
       "      <td>MAGMAPEAK</td>\n",
       "    </tr>\n",
       "    <tr>\n",
       "      <td>2</td>\n",
       "      <td>27253bdc</td>\n",
       "      <td>7ed86c6b72e725e2</td>\n",
       "      <td>2019-09-10T16:51:51.805Z</td>\n",
       "      <td>{\"event_code\": 2000, \"event_count\": 1}</td>\n",
       "      <td>00abaee7</td>\n",
       "      <td>1</td>\n",
       "      <td>2000</td>\n",
       "      <td>0</td>\n",
       "      <td>Magma Peak - Level 2</td>\n",
       "      <td>Clip</td>\n",
       "      <td>MAGMAPEAK</td>\n",
       "    </tr>\n",
       "    <tr>\n",
       "      <td>3</td>\n",
       "      <td>27253bdc</td>\n",
       "      <td>7e516ace50e7fe67</td>\n",
       "      <td>2019-09-10T16:53:12.825Z</td>\n",
       "      <td>{\"event_code\": 2000, \"event_count\": 1}</td>\n",
       "      <td>00abaee7</td>\n",
       "      <td>1</td>\n",
       "      <td>2000</td>\n",
       "      <td>0</td>\n",
       "      <td>Crystal Caves - Level 1</td>\n",
       "      <td>Clip</td>\n",
       "      <td>CRYSTALCAVES</td>\n",
       "    </tr>\n",
       "    <tr>\n",
       "      <td>4</td>\n",
       "      <td>7d093bf9</td>\n",
       "      <td>a022c3f60ba547e7</td>\n",
       "      <td>2019-09-10T16:54:12.115Z</td>\n",
       "      <td>{\"version\":\"1.0\",\"round\":0,\"event_count\":1,\"ga...</td>\n",
       "      <td>00abaee7</td>\n",
       "      <td>1</td>\n",
       "      <td>2000</td>\n",
       "      <td>0</td>\n",
       "      <td>Chow Time</td>\n",
       "      <td>Game</td>\n",
       "      <td>CRYSTALCAVES</td>\n",
       "    </tr>\n",
       "  </tbody>\n",
       "</table>\n",
       "</div>"
      ],
      "text/plain": [
       "   event_id      game_session                 timestamp  \\\n",
       "0  27253bdc  0ea9ecc81a565215  2019-09-10T16:50:24.910Z   \n",
       "1  27253bdc  c1ea43d8b8261d27  2019-09-10T16:50:55.503Z   \n",
       "2  27253bdc  7ed86c6b72e725e2  2019-09-10T16:51:51.805Z   \n",
       "3  27253bdc  7e516ace50e7fe67  2019-09-10T16:53:12.825Z   \n",
       "4  7d093bf9  a022c3f60ba547e7  2019-09-10T16:54:12.115Z   \n",
       "\n",
       "                                          event_data installation_id  \\\n",
       "0             {\"event_code\": 2000, \"event_count\": 1}        00abaee7   \n",
       "1             {\"event_code\": 2000, \"event_count\": 1}        00abaee7   \n",
       "2             {\"event_code\": 2000, \"event_count\": 1}        00abaee7   \n",
       "3             {\"event_code\": 2000, \"event_count\": 1}        00abaee7   \n",
       "4  {\"version\":\"1.0\",\"round\":0,\"event_count\":1,\"ga...        00abaee7   \n",
       "\n",
       "   event_count  event_code  game_time                    title  type  \\\n",
       "0            1        2000          0  Welcome to Lost Lagoon!  Clip   \n",
       "1            1        2000          0     Magma Peak - Level 1  Clip   \n",
       "2            1        2000          0     Magma Peak - Level 2  Clip   \n",
       "3            1        2000          0  Crystal Caves - Level 1  Clip   \n",
       "4            1        2000          0                Chow Time  Game   \n",
       "\n",
       "          world  \n",
       "0          NONE  \n",
       "1     MAGMAPEAK  \n",
       "2     MAGMAPEAK  \n",
       "3  CRYSTALCAVES  \n",
       "4  CRYSTALCAVES  "
      ]
     },
     "execution_count": 19,
     "metadata": {},
     "output_type": "execute_result"
    }
   ],
   "source": [
    "test.head()"
   ]
  },
  {
   "cell_type": "code",
   "execution_count": 20,
   "metadata": {},
   "outputs": [
    {
     "data": {
      "text/plain": [
       "(1156414, 11)"
      ]
     },
     "execution_count": 20,
     "metadata": {},
     "output_type": "execute_result"
    }
   ],
   "source": [
    "test.shape"
   ]
  },
  {
   "cell_type": "code",
   "execution_count": 21,
   "metadata": {},
   "outputs": [
    {
     "data": {
      "text/plain": [
       "1000"
      ]
     },
     "execution_count": 21,
     "metadata": {},
     "output_type": "execute_result"
    }
   ],
   "source": [
    "test.installation_id.nunique()"
   ]
  },
  {
   "cell_type": "markdown",
   "metadata": {},
   "source": [
    "So we have 1.1 million rows on a thousand unique installation_ids in the test set. Below, you can see that we have this same amount of rows in the sample submission. This means that there are no installation_ids without assessment in the test set indeed."
   ]
  },
  {
   "cell_type": "code",
   "execution_count": 22,
   "metadata": {},
   "outputs": [
    {
     "data": {
      "text/plain": [
       "(1000, 2)"
      ]
     },
     "execution_count": 22,
     "metadata": {},
     "output_type": "execute_result"
    }
   ],
   "source": [
    "sample_sub.shape"
   ]
  },
  {
   "cell_type": "markdown",
   "metadata": {},
   "source": [
    "# 3. Understanding and visualizing the train labels"
   ]
  },
  {
   "cell_type": "markdown",
   "metadata": {},
   "source": [
    "The outcomes in this competition are grouped into 4 groups (labeled accuracy_group in the data):\n",
    "\n",
    "3: the assessment was solved on the first attempt\n",
    "\n",
    "2: the assessment was solved on the second attempt\n",
    "\n",
    "1: the assessment was solved after 3 or more attempts\n",
    "\n",
    "0: the assessment was never solved\n",
    "\n",
    "\n",
    "I started by visualizing some of these columns"
   ]
  },
  {
   "cell_type": "code",
   "execution_count": 23,
   "metadata": {
    "_kg_hide-input": true
   },
   "outputs": [
    {
     "data": {
      "image/png": "[encoded data removed]",
      "text/plain": [
       "<Figure size 864x432 with 1 Axes>"
      ]
     },
     "metadata": {},
     "output_type": "display_data"
    }
   ],
   "source": [
    "plt.rcParams.update({'font.size': 22})\n",
    "\n",
    "plt.figure(figsize=(12,6))\n",
    "sns.countplot(y=\"title\", data=train_labels, color=\"blue\", order = train_labels.title.value_counts().index)\n",
    "plt.title(\"Counts of titles\")\n",
    "plt.show()"
   ]
  },
  {
   "cell_type": "code",
   "execution_count": 24,
   "metadata": {
    "_kg_hide-input": true
   },
   "outputs": [
    {
     "data": {
      "image/png": "[encoded data removed]",
      "text/plain": [
       "<Figure size 576x576 with 1 Axes>"
      ]
     },
     "metadata": {},
     "output_type": "display_data"
    }
   ],
   "source": [
    "plt.rcParams.update({'font.size': 16})\n",
    "\n",
    "plt.figure(figsize=(8,8))\n",
    "sns.countplot(x=\"accuracy_group\", data=train_labels, color=\"blue\")\n",
    "plt.title(\"Counts of accuracy group\")\n",
    "plt.show()"
   ]
  },
  {
   "cell_type": "markdown",
   "metadata": {},
   "source": [
    "As the match between the train dataframe and the train_labels dataframe is not straightforward, it tried to figure out how these dataframes are to be matched by focussing on just one particular installation_id."
   ]
  },
  {
   "cell_type": "code",
   "execution_count": 25,
   "metadata": {},
   "outputs": [
    {
     "data": {
      "text/html": [
       "<div>\n",
       "<style scoped>\n",
       "    .dataframe tbody tr th:only-of-type {\n",
       "        vertical-align: middle;\n",
       "    }\n",
       "\n",
       "    .dataframe tbody tr th {\n",
       "        vertical-align: top;\n",
       "    }\n",
       "\n",
       "    .dataframe thead th {\n",
       "        text-align: right;\n",
       "    }\n",
       "</style>\n",
       "<table border=\"1\" class=\"dataframe\">\n",
       "  <thead>\n",
       "    <tr style=\"text-align: right;\">\n",
       "      <th></th>\n",
       "      <th>game_session</th>\n",
       "      <th>installation_id</th>\n",
       "      <th>title</th>\n",
       "      <th>num_correct</th>\n",
       "      <th>num_incorrect</th>\n",
       "      <th>accuracy</th>\n",
       "      <th>accuracy_group</th>\n",
       "    </tr>\n",
       "  </thead>\n",
       "  <tbody>\n",
       "    <tr>\n",
       "      <td>0</td>\n",
       "      <td>6bdf9623adc94d89</td>\n",
       "      <td>0006a69f</td>\n",
       "      <td>Mushroom Sorter (Assessment)</td>\n",
       "      <td>1</td>\n",
       "      <td>0</td>\n",
       "      <td>1.0</td>\n",
       "      <td>3</td>\n",
       "    </tr>\n",
       "    <tr>\n",
       "      <td>1</td>\n",
       "      <td>77b8ee947eb84b4e</td>\n",
       "      <td>0006a69f</td>\n",
       "      <td>Bird Measurer (Assessment)</td>\n",
       "      <td>0</td>\n",
       "      <td>11</td>\n",
       "      <td>0.0</td>\n",
       "      <td>0</td>\n",
       "    </tr>\n",
       "    <tr>\n",
       "      <td>2</td>\n",
       "      <td>901acc108f55a5a1</td>\n",
       "      <td>0006a69f</td>\n",
       "      <td>Mushroom Sorter (Assessment)</td>\n",
       "      <td>1</td>\n",
       "      <td>0</td>\n",
       "      <td>1.0</td>\n",
       "      <td>3</td>\n",
       "    </tr>\n",
       "    <tr>\n",
       "      <td>3</td>\n",
       "      <td>9501794defd84e4d</td>\n",
       "      <td>0006a69f</td>\n",
       "      <td>Mushroom Sorter (Assessment)</td>\n",
       "      <td>1</td>\n",
       "      <td>1</td>\n",
       "      <td>0.5</td>\n",
       "      <td>2</td>\n",
       "    </tr>\n",
       "    <tr>\n",
       "      <td>4</td>\n",
       "      <td>a9ef3ecb3d1acc6a</td>\n",
       "      <td>0006a69f</td>\n",
       "      <td>Bird Measurer (Assessment)</td>\n",
       "      <td>1</td>\n",
       "      <td>0</td>\n",
       "      <td>1.0</td>\n",
       "      <td>3</td>\n",
       "    </tr>\n",
       "  </tbody>\n",
       "</table>\n",
       "</div>"
      ],
      "text/plain": [
       "       game_session installation_id                         title  \\\n",
       "0  6bdf9623adc94d89        0006a69f  Mushroom Sorter (Assessment)   \n",
       "1  77b8ee947eb84b4e        0006a69f    Bird Measurer (Assessment)   \n",
       "2  901acc108f55a5a1        0006a69f  Mushroom Sorter (Assessment)   \n",
       "3  9501794defd84e4d        0006a69f  Mushroom Sorter (Assessment)   \n",
       "4  a9ef3ecb3d1acc6a        0006a69f    Bird Measurer (Assessment)   \n",
       "\n",
       "   num_correct  num_incorrect  accuracy  accuracy_group  \n",
       "0            1              0       1.0               3  \n",
       "1            0             11       0.0               0  \n",
       "2            1              0       1.0               3  \n",
       "3            1              1       0.5               2  \n",
       "4            1              0       1.0               3  "
      ]
     },
     "execution_count": 25,
     "metadata": {},
     "output_type": "execute_result"
    }
   ],
   "source": [
    "train_labels[train_labels.installation_id == \"0006a69f\"]"
   ]
  },
  {
   "cell_type": "markdown",
   "metadata": {},
   "source": [
    "From Kaggle: The file train_labels.csv has been provided to show how these groups would be computed on the assessments in the training set. Assessment attempts are captured in event_code 4100 for all assessments except for Bird Measurer, which uses event_code 4110. If the attempt was correct, it contains \"correct\":true.\n",
    "\n",
    "However, in the first version I already noticed that I had one attempt too many for this installation_id when mapping the rows with the train_labels for. It turns out that there are in fact also assessment attemps for Bird Measurer with event_code 4100, which should not count (see below). In this case that also makes sense as this installation_id already had a pass on the first attempt"
   ]
  },
  {
   "cell_type": "code",
   "execution_count": 26,
   "metadata": {},
   "outputs": [
    {
     "data": {
      "text/html": [
       "<div>\n",
       "<style scoped>\n",
       "    .dataframe tbody tr th:only-of-type {\n",
       "        vertical-align: middle;\n",
       "    }\n",
       "\n",
       "    .dataframe tbody tr th {\n",
       "        vertical-align: top;\n",
       "    }\n",
       "\n",
       "    .dataframe thead th {\n",
       "        text-align: right;\n",
       "    }\n",
       "</style>\n",
       "<table border=\"1\" class=\"dataframe\">\n",
       "  <thead>\n",
       "    <tr style=\"text-align: right;\">\n",
       "      <th></th>\n",
       "      <th>event_id</th>\n",
       "      <th>game_session</th>\n",
       "      <th>timestamp</th>\n",
       "      <th>event_data</th>\n",
       "      <th>installation_id</th>\n",
       "      <th>event_count</th>\n",
       "      <th>event_code</th>\n",
       "      <th>game_time</th>\n",
       "      <th>title</th>\n",
       "      <th>type</th>\n",
       "      <th>world</th>\n",
       "      <th>date</th>\n",
       "      <th>month</th>\n",
       "      <th>hour</th>\n",
       "      <th>dayofweek</th>\n",
       "    </tr>\n",
       "  </thead>\n",
       "  <tbody>\n",
       "    <tr>\n",
       "      <td>2615</td>\n",
       "      <td>070a5291</td>\n",
       "      <td>a9ef3ecb3d1acc6a</td>\n",
       "      <td>2019-08-06 20:50:33.283000+00:00</td>\n",
       "      <td>{\"correct\":true,\"hats\":[4,8,5],\"event_count\":3...</td>\n",
       "      <td>0006a69f</td>\n",
       "      <td>30</td>\n",
       "      <td>4100</td>\n",
       "      <td>34209</td>\n",
       "      <td>Bird Measurer (Assessment)</td>\n",
       "      <td>Assessment</td>\n",
       "      <td>TREETOPCITY</td>\n",
       "      <td>2019-08-06</td>\n",
       "      <td>8</td>\n",
       "      <td>20</td>\n",
       "      <td>1</td>\n",
       "    </tr>\n",
       "  </tbody>\n",
       "</table>\n",
       "</div>"
      ],
      "text/plain": [
       "      event_id      game_session                        timestamp  \\\n",
       "2615  070a5291  a9ef3ecb3d1acc6a 2019-08-06 20:50:33.283000+00:00   \n",
       "\n",
       "                                             event_data installation_id  \\\n",
       "2615  {\"correct\":true,\"hats\":[4,8,5],\"event_count\":3...        0006a69f   \n",
       "\n",
       "      event_count  event_code  game_time                       title  \\\n",
       "2615           30        4100      34209  Bird Measurer (Assessment)   \n",
       "\n",
       "            type        world        date  month  hour  dayofweek  \n",
       "2615  Assessment  TREETOPCITY  2019-08-06      8    20          1  "
      ]
     },
     "execution_count": 26,
     "metadata": {},
     "output_type": "execute_result"
    }
   ],
   "source": [
    "train[(train.event_code == 4100) & (train.installation_id == \"0006a69f\") & (train.title == \"Bird Measurer (Assessment)\")]"
   ]
  },
  {
   "cell_type": "markdown",
   "metadata": {},
   "source": [
    "After having read Andrew Lukyanenko's notebook, I decided to also create an attempt variable. In addition, I have also borrowed his code to extract the correct variable (thanks Andrew!)."
   ]
  },
  {
   "cell_type": "code",
   "execution_count": 27,
   "metadata": {
    "_kg_hide-input": true
   },
   "outputs": [],
   "source": [
    "#credits for this code chuck go to Andrew Lukyanenko\n",
    "train['attempt'] = 0\n",
    "train.loc[(train['title'] == 'Bird Measurer (Assessment)') & (train['event_code'] == 4110),\\\n",
    "       'attempt'] = 1\n",
    "train.loc[(train['type'] == 'Assessment') &\\\n",
    "       (train['title'] != 'Bird Measurer (Assessment)')\\\n",
    "       & (train['event_code'] == 4100),\\\n",
    "          'attempt'] = 1\n",
    "\n",
    "train['correct'] = None\n",
    "train.loc[(train['attempt'] == 1) & (train['event_data'].str.contains('\"correct\":true')), 'correct'] = True\n",
    "train.loc[(train['attempt'] == 1) & (train['event_data'].str.contains('\"correct\":false')), 'correct'] = False"
   ]
  },
  {
   "cell_type": "markdown",
   "metadata": {},
   "source": [
    "Below you can see that row 2615 is not in the assessment results of this installation_id anymore, and the results add up nicely to the num_correct and num_incorrect in the train_labels."
   ]
  },
  {
   "cell_type": "code",
   "execution_count": 28,
   "metadata": {},
   "outputs": [
    {
     "data": {
      "text/html": [
       "<div>\n",
       "<style scoped>\n",
       "    .dataframe tbody tr th:only-of-type {\n",
       "        vertical-align: middle;\n",
       "    }\n",
       "\n",
       "    .dataframe tbody tr th {\n",
       "        vertical-align: top;\n",
       "    }\n",
       "\n",
       "    .dataframe thead th {\n",
       "        text-align: right;\n",
       "    }\n",
       "</style>\n",
       "<table border=\"1\" class=\"dataframe\">\n",
       "  <thead>\n",
       "    <tr style=\"text-align: right;\">\n",
       "      <th></th>\n",
       "      <th>event_id</th>\n",
       "      <th>game_session</th>\n",
       "      <th>timestamp</th>\n",
       "      <th>event_data</th>\n",
       "      <th>installation_id</th>\n",
       "      <th>event_count</th>\n",
       "      <th>event_code</th>\n",
       "      <th>game_time</th>\n",
       "      <th>title</th>\n",
       "      <th>type</th>\n",
       "      <th>world</th>\n",
       "      <th>date</th>\n",
       "      <th>month</th>\n",
       "      <th>hour</th>\n",
       "      <th>dayofweek</th>\n",
       "      <th>attempt</th>\n",
       "      <th>correct</th>\n",
       "    </tr>\n",
       "  </thead>\n",
       "  <tbody>\n",
       "    <tr>\n",
       "      <td>690</td>\n",
       "      <td>25fa8af4</td>\n",
       "      <td>901acc108f55a5a1</td>\n",
       "      <td>2019-08-06 05:22:32.357000+00:00</td>\n",
       "      <td>{\"correct\":true,\"stumps\":[1,2,4],\"event_count\"...</td>\n",
       "      <td>0006a69f</td>\n",
       "      <td>44</td>\n",
       "      <td>4100</td>\n",
       "      <td>31011</td>\n",
       "      <td>Mushroom Sorter (Assessment)</td>\n",
       "      <td>Assessment</td>\n",
       "      <td>TREETOPCITY</td>\n",
       "      <td>2019-08-06</td>\n",
       "      <td>8</td>\n",
       "      <td>5</td>\n",
       "      <td>1</td>\n",
       "      <td>1</td>\n",
       "      <td>True</td>\n",
       "    </tr>\n",
       "    <tr>\n",
       "      <td>1171</td>\n",
       "      <td>17113b36</td>\n",
       "      <td>77b8ee947eb84b4e</td>\n",
       "      <td>2019-08-06 05:35:54.898000+00:00</td>\n",
       "      <td>{\"correct\":false,\"caterpillars\":[11,8,3],\"even...</td>\n",
       "      <td>0006a69f</td>\n",
       "      <td>29</td>\n",
       "      <td>4110</td>\n",
       "      <td>35771</td>\n",
       "      <td>Bird Measurer (Assessment)</td>\n",
       "      <td>Assessment</td>\n",
       "      <td>TREETOPCITY</td>\n",
       "      <td>2019-08-06</td>\n",
       "      <td>8</td>\n",
       "      <td>5</td>\n",
       "      <td>1</td>\n",
       "      <td>1</td>\n",
       "      <td>False</td>\n",
       "    </tr>\n",
       "    <tr>\n",
       "      <td>1177</td>\n",
       "      <td>17113b36</td>\n",
       "      <td>77b8ee947eb84b4e</td>\n",
       "      <td>2019-08-06 05:36:01.927000+00:00</td>\n",
       "      <td>{\"correct\":false,\"caterpillars\":[11,8,11],\"eve...</td>\n",
       "      <td>0006a69f</td>\n",
       "      <td>35</td>\n",
       "      <td>4110</td>\n",
       "      <td>42805</td>\n",
       "      <td>Bird Measurer (Assessment)</td>\n",
       "      <td>Assessment</td>\n",
       "      <td>TREETOPCITY</td>\n",
       "      <td>2019-08-06</td>\n",
       "      <td>8</td>\n",
       "      <td>5</td>\n",
       "      <td>1</td>\n",
       "      <td>1</td>\n",
       "      <td>False</td>\n",
       "    </tr>\n",
       "    <tr>\n",
       "      <td>1182</td>\n",
       "      <td>17113b36</td>\n",
       "      <td>77b8ee947eb84b4e</td>\n",
       "      <td>2019-08-06 05:36:06.512000+00:00</td>\n",
       "      <td>{\"correct\":false,\"caterpillars\":[11,8,5],\"even...</td>\n",
       "      <td>0006a69f</td>\n",
       "      <td>40</td>\n",
       "      <td>4110</td>\n",
       "      <td>47388</td>\n",
       "      <td>Bird Measurer (Assessment)</td>\n",
       "      <td>Assessment</td>\n",
       "      <td>TREETOPCITY</td>\n",
       "      <td>2019-08-06</td>\n",
       "      <td>8</td>\n",
       "      <td>5</td>\n",
       "      <td>1</td>\n",
       "      <td>1</td>\n",
       "      <td>False</td>\n",
       "    </tr>\n",
       "    <tr>\n",
       "      <td>1187</td>\n",
       "      <td>17113b36</td>\n",
       "      <td>77b8ee947eb84b4e</td>\n",
       "      <td>2019-08-06 05:36:09.739000+00:00</td>\n",
       "      <td>{\"correct\":false,\"caterpillars\":[11,8,7],\"even...</td>\n",
       "      <td>0006a69f</td>\n",
       "      <td>45</td>\n",
       "      <td>4110</td>\n",
       "      <td>50605</td>\n",
       "      <td>Bird Measurer (Assessment)</td>\n",
       "      <td>Assessment</td>\n",
       "      <td>TREETOPCITY</td>\n",
       "      <td>2019-08-06</td>\n",
       "      <td>8</td>\n",
       "      <td>5</td>\n",
       "      <td>1</td>\n",
       "      <td>1</td>\n",
       "      <td>False</td>\n",
       "    </tr>\n",
       "    <tr>\n",
       "      <td>1192</td>\n",
       "      <td>17113b36</td>\n",
       "      <td>77b8ee947eb84b4e</td>\n",
       "      <td>2019-08-06 05:36:13.951000+00:00</td>\n",
       "      <td>{\"correct\":false,\"caterpillars\":[11,8,4],\"even...</td>\n",
       "      <td>0006a69f</td>\n",
       "      <td>50</td>\n",
       "      <td>4110</td>\n",
       "      <td>54822</td>\n",
       "      <td>Bird Measurer (Assessment)</td>\n",
       "      <td>Assessment</td>\n",
       "      <td>TREETOPCITY</td>\n",
       "      <td>2019-08-06</td>\n",
       "      <td>8</td>\n",
       "      <td>5</td>\n",
       "      <td>1</td>\n",
       "      <td>1</td>\n",
       "      <td>False</td>\n",
       "    </tr>\n",
       "    <tr>\n",
       "      <td>1195</td>\n",
       "      <td>17113b36</td>\n",
       "      <td>77b8ee947eb84b4e</td>\n",
       "      <td>2019-08-06 05:36:17.407000+00:00</td>\n",
       "      <td>{\"correct\":false,\"caterpillars\":[11,8,4],\"even...</td>\n",
       "      <td>0006a69f</td>\n",
       "      <td>53</td>\n",
       "      <td>4110</td>\n",
       "      <td>58280</td>\n",
       "      <td>Bird Measurer (Assessment)</td>\n",
       "      <td>Assessment</td>\n",
       "      <td>TREETOPCITY</td>\n",
       "      <td>2019-08-06</td>\n",
       "      <td>8</td>\n",
       "      <td>5</td>\n",
       "      <td>1</td>\n",
       "      <td>1</td>\n",
       "      <td>False</td>\n",
       "    </tr>\n",
       "    <tr>\n",
       "      <td>1200</td>\n",
       "      <td>17113b36</td>\n",
       "      <td>77b8ee947eb84b4e</td>\n",
       "      <td>2019-08-06 05:36:21.390000+00:00</td>\n",
       "      <td>{\"correct\":false,\"caterpillars\":[11,8,2],\"even...</td>\n",
       "      <td>0006a69f</td>\n",
       "      <td>58</td>\n",
       "      <td>4110</td>\n",
       "      <td>62256</td>\n",
       "      <td>Bird Measurer (Assessment)</td>\n",
       "      <td>Assessment</td>\n",
       "      <td>TREETOPCITY</td>\n",
       "      <td>2019-08-06</td>\n",
       "      <td>8</td>\n",
       "      <td>5</td>\n",
       "      <td>1</td>\n",
       "      <td>1</td>\n",
       "      <td>False</td>\n",
       "    </tr>\n",
       "    <tr>\n",
       "      <td>1205</td>\n",
       "      <td>17113b36</td>\n",
       "      <td>77b8ee947eb84b4e</td>\n",
       "      <td>2019-08-06 05:36:26.296000+00:00</td>\n",
       "      <td>{\"correct\":false,\"caterpillars\":[11,8,1],\"even...</td>\n",
       "      <td>0006a69f</td>\n",
       "      <td>63</td>\n",
       "      <td>4110</td>\n",
       "      <td>67164</td>\n",
       "      <td>Bird Measurer (Assessment)</td>\n",
       "      <td>Assessment</td>\n",
       "      <td>TREETOPCITY</td>\n",
       "      <td>2019-08-06</td>\n",
       "      <td>8</td>\n",
       "      <td>5</td>\n",
       "      <td>1</td>\n",
       "      <td>1</td>\n",
       "      <td>False</td>\n",
       "    </tr>\n",
       "    <tr>\n",
       "      <td>1212</td>\n",
       "      <td>17113b36</td>\n",
       "      <td>77b8ee947eb84b4e</td>\n",
       "      <td>2019-08-06 05:36:32.187000+00:00</td>\n",
       "      <td>{\"correct\":false,\"caterpillars\":[11,8,1],\"even...</td>\n",
       "      <td>0006a69f</td>\n",
       "      <td>70</td>\n",
       "      <td>4110</td>\n",
       "      <td>73056</td>\n",
       "      <td>Bird Measurer (Assessment)</td>\n",
       "      <td>Assessment</td>\n",
       "      <td>TREETOPCITY</td>\n",
       "      <td>2019-08-06</td>\n",
       "      <td>8</td>\n",
       "      <td>5</td>\n",
       "      <td>1</td>\n",
       "      <td>1</td>\n",
       "      <td>False</td>\n",
       "    </tr>\n",
       "    <tr>\n",
       "      <td>1218</td>\n",
       "      <td>17113b36</td>\n",
       "      <td>77b8ee947eb84b4e</td>\n",
       "      <td>2019-08-06 05:36:38.140000+00:00</td>\n",
       "      <td>{\"correct\":false,\"caterpillars\":[5,8,1],\"event...</td>\n",
       "      <td>0006a69f</td>\n",
       "      <td>76</td>\n",
       "      <td>4110</td>\n",
       "      <td>79006</td>\n",
       "      <td>Bird Measurer (Assessment)</td>\n",
       "      <td>Assessment</td>\n",
       "      <td>TREETOPCITY</td>\n",
       "      <td>2019-08-06</td>\n",
       "      <td>8</td>\n",
       "      <td>5</td>\n",
       "      <td>1</td>\n",
       "      <td>1</td>\n",
       "      <td>False</td>\n",
       "    </tr>\n",
       "    <tr>\n",
       "      <td>1227</td>\n",
       "      <td>17113b36</td>\n",
       "      <td>77b8ee947eb84b4e</td>\n",
       "      <td>2019-08-06 05:36:49.155000+00:00</td>\n",
       "      <td>{\"correct\":false,\"caterpillars\":[5,8,6],\"event...</td>\n",
       "      <td>0006a69f</td>\n",
       "      <td>85</td>\n",
       "      <td>4110</td>\n",
       "      <td>90032</td>\n",
       "      <td>Bird Measurer (Assessment)</td>\n",
       "      <td>Assessment</td>\n",
       "      <td>TREETOPCITY</td>\n",
       "      <td>2019-08-06</td>\n",
       "      <td>8</td>\n",
       "      <td>5</td>\n",
       "      <td>1</td>\n",
       "      <td>1</td>\n",
       "      <td>False</td>\n",
       "    </tr>\n",
       "    <tr>\n",
       "      <td>1259</td>\n",
       "      <td>25fa8af4</td>\n",
       "      <td>6bdf9623adc94d89</td>\n",
       "      <td>2019-08-06 05:38:08.036000+00:00</td>\n",
       "      <td>{\"correct\":true,\"stumps\":[1,2,4],\"event_count\"...</td>\n",
       "      <td>0006a69f</td>\n",
       "      <td>30</td>\n",
       "      <td>4100</td>\n",
       "      <td>18026</td>\n",
       "      <td>Mushroom Sorter (Assessment)</td>\n",
       "      <td>Assessment</td>\n",
       "      <td>TREETOPCITY</td>\n",
       "      <td>2019-08-06</td>\n",
       "      <td>8</td>\n",
       "      <td>5</td>\n",
       "      <td>1</td>\n",
       "      <td>1</td>\n",
       "      <td>True</td>\n",
       "    </tr>\n",
       "    <tr>\n",
       "      <td>2187</td>\n",
       "      <td>25fa8af4</td>\n",
       "      <td>9501794defd84e4d</td>\n",
       "      <td>2019-08-06 20:35:12.290000+00:00</td>\n",
       "      <td>{\"correct\":false,\"stumps\":[3,2,5],\"event_count...</td>\n",
       "      <td>0006a69f</td>\n",
       "      <td>29</td>\n",
       "      <td>4100</td>\n",
       "      <td>18484</td>\n",
       "      <td>Mushroom Sorter (Assessment)</td>\n",
       "      <td>Assessment</td>\n",
       "      <td>TREETOPCITY</td>\n",
       "      <td>2019-08-06</td>\n",
       "      <td>8</td>\n",
       "      <td>20</td>\n",
       "      <td>1</td>\n",
       "      <td>1</td>\n",
       "      <td>False</td>\n",
       "    </tr>\n",
       "    <tr>\n",
       "      <td>2196</td>\n",
       "      <td>25fa8af4</td>\n",
       "      <td>9501794defd84e4d</td>\n",
       "      <td>2019-08-06 20:35:16.846000+00:00</td>\n",
       "      <td>{\"correct\":true,\"stumps\":[2,3,5],\"event_count\"...</td>\n",
       "      <td>0006a69f</td>\n",
       "      <td>38</td>\n",
       "      <td>4100</td>\n",
       "      <td>23043</td>\n",
       "      <td>Mushroom Sorter (Assessment)</td>\n",
       "      <td>Assessment</td>\n",
       "      <td>TREETOPCITY</td>\n",
       "      <td>2019-08-06</td>\n",
       "      <td>8</td>\n",
       "      <td>20</td>\n",
       "      <td>1</td>\n",
       "      <td>1</td>\n",
       "      <td>True</td>\n",
       "    </tr>\n",
       "    <tr>\n",
       "      <td>2599</td>\n",
       "      <td>17113b36</td>\n",
       "      <td>a9ef3ecb3d1acc6a</td>\n",
       "      <td>2019-08-06 20:50:12.115000+00:00</td>\n",
       "      <td>{\"correct\":true,\"caterpillars\":[4,8,5],\"event_...</td>\n",
       "      <td>0006a69f</td>\n",
       "      <td>14</td>\n",
       "      <td>4110</td>\n",
       "      <td>13050</td>\n",
       "      <td>Bird Measurer (Assessment)</td>\n",
       "      <td>Assessment</td>\n",
       "      <td>TREETOPCITY</td>\n",
       "      <td>2019-08-06</td>\n",
       "      <td>8</td>\n",
       "      <td>20</td>\n",
       "      <td>1</td>\n",
       "      <td>1</td>\n",
       "      <td>True</td>\n",
       "    </tr>\n",
       "  </tbody>\n",
       "</table>\n",
       "</div>"
      ],
      "text/plain": [
       "      event_id      game_session                        timestamp  \\\n",
       "690   25fa8af4  901acc108f55a5a1 2019-08-06 05:22:32.357000+00:00   \n",
       "1171  17113b36  77b8ee947eb84b4e 2019-08-06 05:35:54.898000+00:00   \n",
       "1177  17113b36  77b8ee947eb84b4e 2019-08-06 05:36:01.927000+00:00   \n",
       "1182  17113b36  77b8ee947eb84b4e 2019-08-06 05:36:06.512000+00:00   \n",
       "1187  17113b36  77b8ee947eb84b4e 2019-08-06 05:36:09.739000+00:00   \n",
       "1192  17113b36  77b8ee947eb84b4e 2019-08-06 05:36:13.951000+00:00   \n",
       "1195  17113b36  77b8ee947eb84b4e 2019-08-06 05:36:17.407000+00:00   \n",
       "1200  17113b36  77b8ee947eb84b4e 2019-08-06 05:36:21.390000+00:00   \n",
       "1205  17113b36  77b8ee947eb84b4e 2019-08-06 05:36:26.296000+00:00   \n",
       "1212  17113b36  77b8ee947eb84b4e 2019-08-06 05:36:32.187000+00:00   \n",
       "1218  17113b36  77b8ee947eb84b4e 2019-08-06 05:36:38.140000+00:00   \n",
       "1227  17113b36  77b8ee947eb84b4e 2019-08-06 05:36:49.155000+00:00   \n",
       "1259  25fa8af4  6bdf9623adc94d89 2019-08-06 05:38:08.036000+00:00   \n",
       "2187  25fa8af4  9501794defd84e4d 2019-08-06 20:35:12.290000+00:00   \n",
       "2196  25fa8af4  9501794defd84e4d 2019-08-06 20:35:16.846000+00:00   \n",
       "2599  17113b36  a9ef3ecb3d1acc6a 2019-08-06 20:50:12.115000+00:00   \n",
       "\n",
       "                                             event_data installation_id  \\\n",
       "690   {\"correct\":true,\"stumps\":[1,2,4],\"event_count\"...        0006a69f   \n",
       "1171  {\"correct\":false,\"caterpillars\":[11,8,3],\"even...        0006a69f   \n",
       "1177  {\"correct\":false,\"caterpillars\":[11,8,11],\"eve...        0006a69f   \n",
       "1182  {\"correct\":false,\"caterpillars\":[11,8,5],\"even...        0006a69f   \n",
       "1187  {\"correct\":false,\"caterpillars\":[11,8,7],\"even...        0006a69f   \n",
       "1192  {\"correct\":false,\"caterpillars\":[11,8,4],\"even...        0006a69f   \n",
       "1195  {\"correct\":false,\"caterpillars\":[11,8,4],\"even...        0006a69f   \n",
       "1200  {\"correct\":false,\"caterpillars\":[11,8,2],\"even...        0006a69f   \n",
       "1205  {\"correct\":false,\"caterpillars\":[11,8,1],\"even...        0006a69f   \n",
       "1212  {\"correct\":false,\"caterpillars\":[11,8,1],\"even...        0006a69f   \n",
       "1218  {\"correct\":false,\"caterpillars\":[5,8,1],\"event...        0006a69f   \n",
       "1227  {\"correct\":false,\"caterpillars\":[5,8,6],\"event...        0006a69f   \n",
       "1259  {\"correct\":true,\"stumps\":[1,2,4],\"event_count\"...        0006a69f   \n",
       "2187  {\"correct\":false,\"stumps\":[3,2,5],\"event_count...        0006a69f   \n",
       "2196  {\"correct\":true,\"stumps\":[2,3,5],\"event_count\"...        0006a69f   \n",
       "2599  {\"correct\":true,\"caterpillars\":[4,8,5],\"event_...        0006a69f   \n",
       "\n",
       "      event_count  event_code  game_time                         title  \\\n",
       "690            44        4100      31011  Mushroom Sorter (Assessment)   \n",
       "1171           29        4110      35771    Bird Measurer (Assessment)   \n",
       "1177           35        4110      42805    Bird Measurer (Assessment)   \n",
       "1182           40        4110      47388    Bird Measurer (Assessment)   \n",
       "1187           45        4110      50605    Bird Measurer (Assessment)   \n",
       "1192           50        4110      54822    Bird Measurer (Assessment)   \n",
       "1195           53        4110      58280    Bird Measurer (Assessment)   \n",
       "1200           58        4110      62256    Bird Measurer (Assessment)   \n",
       "1205           63        4110      67164    Bird Measurer (Assessment)   \n",
       "1212           70        4110      73056    Bird Measurer (Assessment)   \n",
       "1218           76        4110      79006    Bird Measurer (Assessment)   \n",
       "1227           85        4110      90032    Bird Measurer (Assessment)   \n",
       "1259           30        4100      18026  Mushroom Sorter (Assessment)   \n",
       "2187           29        4100      18484  Mushroom Sorter (Assessment)   \n",
       "2196           38        4100      23043  Mushroom Sorter (Assessment)   \n",
       "2599           14        4110      13050    Bird Measurer (Assessment)   \n",
       "\n",
       "            type        world        date  month  hour  dayofweek  attempt  \\\n",
       "690   Assessment  TREETOPCITY  2019-08-06      8     5          1        1   \n",
       "1171  Assessment  TREETOPCITY  2019-08-06      8     5          1        1   \n",
       "1177  Assessment  TREETOPCITY  2019-08-06      8     5          1        1   \n",
       "1182  Assessment  TREETOPCITY  2019-08-06      8     5          1        1   \n",
       "1187  Assessment  TREETOPCITY  2019-08-06      8     5          1        1   \n",
       "1192  Assessment  TREETOPCITY  2019-08-06      8     5          1        1   \n",
       "1195  Assessment  TREETOPCITY  2019-08-06      8     5          1        1   \n",
       "1200  Assessment  TREETOPCITY  2019-08-06      8     5          1        1   \n",
       "1205  Assessment  TREETOPCITY  2019-08-06      8     5          1        1   \n",
       "1212  Assessment  TREETOPCITY  2019-08-06      8     5          1        1   \n",
       "1218  Assessment  TREETOPCITY  2019-08-06      8     5          1        1   \n",
       "1227  Assessment  TREETOPCITY  2019-08-06      8     5          1        1   \n",
       "1259  Assessment  TREETOPCITY  2019-08-06      8     5          1        1   \n",
       "2187  Assessment  TREETOPCITY  2019-08-06      8    20          1        1   \n",
       "2196  Assessment  TREETOPCITY  2019-08-06      8    20          1        1   \n",
       "2599  Assessment  TREETOPCITY  2019-08-06      8    20          1        1   \n",
       "\n",
       "     correct  \n",
       "690     True  \n",
       "1171   False  \n",
       "1177   False  \n",
       "1182   False  \n",
       "1187   False  \n",
       "1192   False  \n",
       "1195   False  \n",
       "1200   False  \n",
       "1205   False  \n",
       "1212   False  \n",
       "1218   False  \n",
       "1227   False  \n",
       "1259    True  \n",
       "2187   False  \n",
       "2196    True  \n",
       "2599    True  "
      ]
     },
     "execution_count": 28,
     "metadata": {},
     "output_type": "execute_result"
    }
   ],
   "source": [
    "train[(train.installation_id == \"0006a69f\") & (train.attempt == 1)]"
   ]
  },
  {
   "cell_type": "markdown",
   "metadata": {},
   "source": [
    "Now the question arises: Could there be installation_id's who did assessments (we have already taken out the ones who never took one), but without results in the train_labels? As you can see below, yes there are 628 of those."
   ]
  },
  {
   "cell_type": "code",
   "execution_count": 29,
   "metadata": {},
   "outputs": [
    {
     "data": {
      "text/plain": [
       "628"
      ]
     },
     "execution_count": 29,
     "metadata": {},
     "output_type": "execute_result"
    }
   ],
   "source": [
    "train[~train.installation_id.isin(train_labels.installation_id.unique())].installation_id.nunique()"
   ]
  },
  {
   "cell_type": "markdown",
   "metadata": {},
   "source": [
    "As we can not train on those installation_id's anyway, I am taking them out of the train set. This reduces our train set further from 8.3 million rows to 7.7 million."
   ]
  },
  {
   "cell_type": "code",
   "execution_count": 30,
   "metadata": {},
   "outputs": [
    {
     "data": {
      "text/plain": [
       "(7734558, 17)"
      ]
     },
     "execution_count": 30,
     "metadata": {},
     "output_type": "execute_result"
    }
   ],
   "source": [
    "train = train[train.installation_id.isin(train_labels.installation_id.unique())]\n",
    "train.shape"
   ]
  },
  {
   "cell_type": "code",
   "execution_count": 31,
   "metadata": {},
   "outputs": [
    {
     "data": {
      "text/html": [
       "<div>\n",
       "<style scoped>\n",
       "    .dataframe tbody tr th:only-of-type {\n",
       "        vertical-align: middle;\n",
       "    }\n",
       "\n",
       "    .dataframe tbody tr th {\n",
       "        vertical-align: top;\n",
       "    }\n",
       "\n",
       "    .dataframe thead th {\n",
       "        text-align: right;\n",
       "    }\n",
       "</style>\n",
       "<table border=\"1\" class=\"dataframe\">\n",
       "  <thead>\n",
       "    <tr style=\"text-align: right;\">\n",
       "      <th></th>\n",
       "      <th>event_id</th>\n",
       "      <th>game_session</th>\n",
       "      <th>timestamp</th>\n",
       "      <th>event_data</th>\n",
       "      <th>installation_id</th>\n",
       "      <th>event_count</th>\n",
       "      <th>event_code</th>\n",
       "      <th>game_time</th>\n",
       "      <th>title</th>\n",
       "      <th>type</th>\n",
       "      <th>world</th>\n",
       "      <th>date</th>\n",
       "      <th>month</th>\n",
       "      <th>hour</th>\n",
       "      <th>dayofweek</th>\n",
       "      <th>attempt</th>\n",
       "      <th>correct</th>\n",
       "    </tr>\n",
       "  </thead>\n",
       "  <tbody>\n",
       "    <tr>\n",
       "      <td>0</td>\n",
       "      <td>27253bdc</td>\n",
       "      <td>34ba1a28d02ba8ba</td>\n",
       "      <td>2019-08-06 04:57:18.904000+00:00</td>\n",
       "      <td>{\"event_code\": 2000, \"event_count\": 1}</td>\n",
       "      <td>0006a69f</td>\n",
       "      <td>1</td>\n",
       "      <td>2000</td>\n",
       "      <td>0</td>\n",
       "      <td>Welcome to Lost Lagoon!</td>\n",
       "      <td>Clip</td>\n",
       "      <td>NONE</td>\n",
       "      <td>2019-08-06</td>\n",
       "      <td>8</td>\n",
       "      <td>4</td>\n",
       "      <td>1</td>\n",
       "      <td>0</td>\n",
       "      <td>None</td>\n",
       "    </tr>\n",
       "    <tr>\n",
       "      <td>1</td>\n",
       "      <td>27253bdc</td>\n",
       "      <td>4b57c9a59474a1b9</td>\n",
       "      <td>2019-08-06 04:57:45.301000+00:00</td>\n",
       "      <td>{\"event_code\": 2000, \"event_count\": 1}</td>\n",
       "      <td>0006a69f</td>\n",
       "      <td>1</td>\n",
       "      <td>2000</td>\n",
       "      <td>0</td>\n",
       "      <td>Magma Peak - Level 1</td>\n",
       "      <td>Clip</td>\n",
       "      <td>MAGMAPEAK</td>\n",
       "      <td>2019-08-06</td>\n",
       "      <td>8</td>\n",
       "      <td>4</td>\n",
       "      <td>1</td>\n",
       "      <td>0</td>\n",
       "      <td>None</td>\n",
       "    </tr>\n",
       "    <tr>\n",
       "      <td>2</td>\n",
       "      <td>77261ab5</td>\n",
       "      <td>2b9d5af79bcdb79f</td>\n",
       "      <td>2019-08-06 04:58:14.538000+00:00</td>\n",
       "      <td>{\"version\":\"1.0\",\"event_count\":1,\"game_time\":0...</td>\n",
       "      <td>0006a69f</td>\n",
       "      <td>1</td>\n",
       "      <td>2000</td>\n",
       "      <td>0</td>\n",
       "      <td>Sandcastle Builder (Activity)</td>\n",
       "      <td>Activity</td>\n",
       "      <td>MAGMAPEAK</td>\n",
       "      <td>2019-08-06</td>\n",
       "      <td>8</td>\n",
       "      <td>4</td>\n",
       "      <td>1</td>\n",
       "      <td>0</td>\n",
       "      <td>None</td>\n",
       "    </tr>\n",
       "    <tr>\n",
       "      <td>3</td>\n",
       "      <td>b2dba42b</td>\n",
       "      <td>2b9d5af79bcdb79f</td>\n",
       "      <td>2019-08-06 04:58:14.615000+00:00</td>\n",
       "      <td>{\"description\":\"Let's build a sandcastle! Firs...</td>\n",
       "      <td>0006a69f</td>\n",
       "      <td>2</td>\n",
       "      <td>3010</td>\n",
       "      <td>29</td>\n",
       "      <td>Sandcastle Builder (Activity)</td>\n",
       "      <td>Activity</td>\n",
       "      <td>MAGMAPEAK</td>\n",
       "      <td>2019-08-06</td>\n",
       "      <td>8</td>\n",
       "      <td>4</td>\n",
       "      <td>1</td>\n",
       "      <td>0</td>\n",
       "      <td>None</td>\n",
       "    </tr>\n",
       "    <tr>\n",
       "      <td>4</td>\n",
       "      <td>1325467d</td>\n",
       "      <td>2b9d5af79bcdb79f</td>\n",
       "      <td>2019-08-06 04:58:16.680000+00:00</td>\n",
       "      <td>{\"coordinates\":{\"x\":273,\"y\":650,\"stage_width\":...</td>\n",
       "      <td>0006a69f</td>\n",
       "      <td>3</td>\n",
       "      <td>4070</td>\n",
       "      <td>2137</td>\n",
       "      <td>Sandcastle Builder (Activity)</td>\n",
       "      <td>Activity</td>\n",
       "      <td>MAGMAPEAK</td>\n",
       "      <td>2019-08-06</td>\n",
       "      <td>8</td>\n",
       "      <td>4</td>\n",
       "      <td>1</td>\n",
       "      <td>0</td>\n",
       "      <td>None</td>\n",
       "    </tr>\n",
       "  </tbody>\n",
       "</table>\n",
       "</div>"
      ],
      "text/plain": [
       "   event_id      game_session                        timestamp  \\\n",
       "0  27253bdc  34ba1a28d02ba8ba 2019-08-06 04:57:18.904000+00:00   \n",
       "1  27253bdc  4b57c9a59474a1b9 2019-08-06 04:57:45.301000+00:00   \n",
       "2  77261ab5  2b9d5af79bcdb79f 2019-08-06 04:58:14.538000+00:00   \n",
       "3  b2dba42b  2b9d5af79bcdb79f 2019-08-06 04:58:14.615000+00:00   \n",
       "4  1325467d  2b9d5af79bcdb79f 2019-08-06 04:58:16.680000+00:00   \n",
       "\n",
       "                                          event_data installation_id  \\\n",
       "0             {\"event_code\": 2000, \"event_count\": 1}        0006a69f   \n",
       "1             {\"event_code\": 2000, \"event_count\": 1}        0006a69f   \n",
       "2  {\"version\":\"1.0\",\"event_count\":1,\"game_time\":0...        0006a69f   \n",
       "3  {\"description\":\"Let's build a sandcastle! Firs...        0006a69f   \n",
       "4  {\"coordinates\":{\"x\":273,\"y\":650,\"stage_width\":...        0006a69f   \n",
       "\n",
       "   event_count  event_code  game_time                          title  \\\n",
       "0            1        2000          0        Welcome to Lost Lagoon!   \n",
       "1            1        2000          0           Magma Peak - Level 1   \n",
       "2            1        2000          0  Sandcastle Builder (Activity)   \n",
       "3            2        3010         29  Sandcastle Builder (Activity)   \n",
       "4            3        4070       2137  Sandcastle Builder (Activity)   \n",
       "\n",
       "       type      world        date  month  hour  dayofweek  attempt correct  \n",
       "0      Clip       NONE  2019-08-06      8     4          1        0    None  \n",
       "1      Clip  MAGMAPEAK  2019-08-06      8     4          1        0    None  \n",
       "2  Activity  MAGMAPEAK  2019-08-06      8     4          1        0    None  \n",
       "3  Activity  MAGMAPEAK  2019-08-06      8     4          1        0    None  \n",
       "4  Activity  MAGMAPEAK  2019-08-06      8     4          1        0    None  "
      ]
     },
     "execution_count": 31,
     "metadata": {},
     "output_type": "execute_result"
    }
   ],
   "source": [
    "train.head()"
   ]
  },
  {
   "cell_type": "markdown",
   "metadata": {},
   "source": [
    "# 4. Feature engineering; adding features to train_labels"
   ]
  },
  {
   "cell_type": "markdown",
   "metadata": {},
   "source": [
    "Basically what we need to do is add features to the train_labels dataframe to get our training dataset. To be continued in the next version. Please stay tuned!"
   ]
  },
  {
   "cell_type": "markdown",
   "metadata": {},
   "source": [
    "**To be continued**"
   ]
  }
 ],
 "metadata": {
  "kernelspec": {
   "display_name": "Python 3",
   "language": "python",
   "name": "python3"
  },
  "language_info": {
   "codemirror_mode": {
    "name": "ipython",
    "version": 3
   },
   "file_extension": ".py",
   "mimetype": "text/x-python",
   "name": "python",
   "nbconvert_exporter": "python",
   "pygments_lexer": "ipython3",
   "version": "3.7.4"
  }
 },
 "nbformat": 4,
 "nbformat_minor": 1
}
